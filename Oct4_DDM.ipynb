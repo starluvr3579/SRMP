{
  "nbformat": 4,
  "nbformat_minor": 0,
  "metadata": {
    "colab": {
      "provenance": [],
      "authorship_tag": "ABX9TyOtnQX8KxE+qCv+XB4LWH5u",
      "include_colab_link": true
    },
    "kernelspec": {
      "name": "python3",
      "display_name": "Python 3"
    },
    "language_info": {
      "name": "python"
    }
  },
  "cells": [
    {
      "cell_type": "markdown",
      "metadata": {
        "id": "view-in-github",
        "colab_type": "text"
      },
      "source": [
        "<a href=\"https://colab.research.google.com/github/starluvr3579/SRMP/blob/main/Oct4_DDM.ipynb\" target=\"_parent\"><img src=\"https://colab.research.google.com/assets/colab-badge.svg\" alt=\"Open In Colab\"/></a>"
      ]
    },
    {
      "cell_type": "code",
      "execution_count": 1,
      "metadata": {
        "colab": {
          "base_uri": "https://localhost:8080/"
        },
        "id": "nzHNYnSSnBhM",
        "outputId": "25583dad-28f5-4af9-c105-823e7017c3ec"
      },
      "outputs": [
        {
          "output_type": "stream",
          "name": "stdout",
          "text": [
            "Mounted at /content/drive\n"
          ]
        }
      ],
      "source": [
        "from google.colab import drive\n",
        "drive.mount('/content/drive')"
      ]
    },
    {
      "cell_type": "code",
      "source": [
        "!git clone https://github.com/starluvr3579/SRMP.git"
      ],
      "metadata": {
        "colab": {
          "base_uri": "https://localhost:8080/"
        },
        "id": "M1F6OxR9n4Ck",
        "outputId": "37af6524-212e-4220-975d-6fa338e5d789"
      },
      "execution_count": 2,
      "outputs": [
        {
          "output_type": "stream",
          "name": "stdout",
          "text": [
            "Cloning into 'SRMP'...\n",
            "remote: Enumerating objects: 9, done.\u001b[K\n",
            "remote: Counting objects: 100% (9/9), done.\u001b[K\n",
            "remote: Compressing objects: 100% (7/7), done.\u001b[K\n",
            "remote: Total 9 (delta 1), reused 0 (delta 0), pack-reused 0\u001b[K\n",
            "Receiving objects: 100% (9/9), done.\n",
            "Resolving deltas: 100% (1/1), done.\n"
          ]
        }
      ]
    },
    {
      "cell_type": "code",
      "source": [
        "import pandas as pd"
      ],
      "metadata": {
        "id": "w1S_X3lLnaqH"
      },
      "execution_count": 3,
      "outputs": []
    },
    {
      "cell_type": "code",
      "source": [
        "list2 = [1,2,3,4,5]"
      ],
      "metadata": {
        "id": "LVQf_C6Gprbp"
      },
      "execution_count": 6,
      "outputs": []
    },
    {
      "cell_type": "code",
      "source": [
        "list3 = [3,5,7,9,19]"
      ],
      "metadata": {
        "id": "aB4e-9lZp_X8"
      },
      "execution_count": 7,
      "outputs": []
    },
    {
      "cell_type": "code",
      "source": [
        "df = pd.DataFrame({'list2':list2, 'list3':list3})"
      ],
      "metadata": {
        "id": "AzgVoDwkqWEg"
      },
      "execution_count": 11,
      "outputs": []
    },
    {
      "cell_type": "code",
      "source": [
        "df"
      ],
      "metadata": {
        "colab": {
          "base_uri": "https://localhost:8080/",
          "height": 206
        },
        "id": "BH8g15lesBsd",
        "outputId": "5c701418-06e4-41f7-a50e-895b40ee8c15"
      },
      "execution_count": 14,
      "outputs": [
        {
          "output_type": "execute_result",
          "data": {
            "text/plain": [
              "   list2  list3\n",
              "0      1      3\n",
              "1      2      5\n",
              "2      3      7\n",
              "3      4      9\n",
              "4      5     19"
            ],
            "text/html": [
              "\n",
              "  <div id=\"df-be0eadac-8bfe-4a8c-a1fc-71b36cd75701\" class=\"colab-df-container\">\n",
              "    <div>\n",
              "<style scoped>\n",
              "    .dataframe tbody tr th:only-of-type {\n",
              "        vertical-align: middle;\n",
              "    }\n",
              "\n",
              "    .dataframe tbody tr th {\n",
              "        vertical-align: top;\n",
              "    }\n",
              "\n",
              "    .dataframe thead th {\n",
              "        text-align: right;\n",
              "    }\n",
              "</style>\n",
              "<table border=\"1\" class=\"dataframe\">\n",
              "  <thead>\n",
              "    <tr style=\"text-align: right;\">\n",
              "      <th></th>\n",
              "      <th>list2</th>\n",
              "      <th>list3</th>\n",
              "    </tr>\n",
              "  </thead>\n",
              "  <tbody>\n",
              "    <tr>\n",
              "      <th>0</th>\n",
              "      <td>1</td>\n",
              "      <td>3</td>\n",
              "    </tr>\n",
              "    <tr>\n",
              "      <th>1</th>\n",
              "      <td>2</td>\n",
              "      <td>5</td>\n",
              "    </tr>\n",
              "    <tr>\n",
              "      <th>2</th>\n",
              "      <td>3</td>\n",
              "      <td>7</td>\n",
              "    </tr>\n",
              "    <tr>\n",
              "      <th>3</th>\n",
              "      <td>4</td>\n",
              "      <td>9</td>\n",
              "    </tr>\n",
              "    <tr>\n",
              "      <th>4</th>\n",
              "      <td>5</td>\n",
              "      <td>19</td>\n",
              "    </tr>\n",
              "  </tbody>\n",
              "</table>\n",
              "</div>\n",
              "    <div class=\"colab-df-buttons\">\n",
              "\n",
              "  <div class=\"colab-df-container\">\n",
              "    <button class=\"colab-df-convert\" onclick=\"convertToInteractive('df-be0eadac-8bfe-4a8c-a1fc-71b36cd75701')\"\n",
              "            title=\"Convert this dataframe to an interactive table.\"\n",
              "            style=\"display:none;\">\n",
              "\n",
              "  <svg xmlns=\"http://www.w3.org/2000/svg\" height=\"24px\" viewBox=\"0 -960 960 960\">\n",
              "    <path d=\"M120-120v-720h720v720H120Zm60-500h600v-160H180v160Zm220 220h160v-160H400v160Zm0 220h160v-160H400v160ZM180-400h160v-160H180v160Zm440 0h160v-160H620v160ZM180-180h160v-160H180v160Zm440 0h160v-160H620v160Z\"/>\n",
              "  </svg>\n",
              "    </button>\n",
              "\n",
              "  <style>\n",
              "    .colab-df-container {\n",
              "      display:flex;\n",
              "      gap: 12px;\n",
              "    }\n",
              "\n",
              "    .colab-df-convert {\n",
              "      background-color: #E8F0FE;\n",
              "      border: none;\n",
              "      border-radius: 50%;\n",
              "      cursor: pointer;\n",
              "      display: none;\n",
              "      fill: #1967D2;\n",
              "      height: 32px;\n",
              "      padding: 0 0 0 0;\n",
              "      width: 32px;\n",
              "    }\n",
              "\n",
              "    .colab-df-convert:hover {\n",
              "      background-color: #E2EBFA;\n",
              "      box-shadow: 0px 1px 2px rgba(60, 64, 67, 0.3), 0px 1px 3px 1px rgba(60, 64, 67, 0.15);\n",
              "      fill: #174EA6;\n",
              "    }\n",
              "\n",
              "    .colab-df-buttons div {\n",
              "      margin-bottom: 4px;\n",
              "    }\n",
              "\n",
              "    [theme=dark] .colab-df-convert {\n",
              "      background-color: #3B4455;\n",
              "      fill: #D2E3FC;\n",
              "    }\n",
              "\n",
              "    [theme=dark] .colab-df-convert:hover {\n",
              "      background-color: #434B5C;\n",
              "      box-shadow: 0px 1px 3px 1px rgba(0, 0, 0, 0.15);\n",
              "      filter: drop-shadow(0px 1px 2px rgba(0, 0, 0, 0.3));\n",
              "      fill: #FFFFFF;\n",
              "    }\n",
              "  </style>\n",
              "\n",
              "    <script>\n",
              "      const buttonEl =\n",
              "        document.querySelector('#df-be0eadac-8bfe-4a8c-a1fc-71b36cd75701 button.colab-df-convert');\n",
              "      buttonEl.style.display =\n",
              "        google.colab.kernel.accessAllowed ? 'block' : 'none';\n",
              "\n",
              "      async function convertToInteractive(key) {\n",
              "        const element = document.querySelector('#df-be0eadac-8bfe-4a8c-a1fc-71b36cd75701');\n",
              "        const dataTable =\n",
              "          await google.colab.kernel.invokeFunction('convertToInteractive',\n",
              "                                                    [key], {});\n",
              "        if (!dataTable) return;\n",
              "\n",
              "        const docLinkHtml = 'Like what you see? Visit the ' +\n",
              "          '<a target=\"_blank\" href=https://colab.research.google.com/notebooks/data_table.ipynb>data table notebook</a>'\n",
              "          + ' to learn more about interactive tables.';\n",
              "        element.innerHTML = '';\n",
              "        dataTable['output_type'] = 'display_data';\n",
              "        await google.colab.output.renderOutput(dataTable, element);\n",
              "        const docLink = document.createElement('div');\n",
              "        docLink.innerHTML = docLinkHtml;\n",
              "        element.appendChild(docLink);\n",
              "      }\n",
              "    </script>\n",
              "  </div>\n",
              "\n",
              "\n",
              "<div id=\"df-3fd9150e-47e9-4c91-863a-fcdf252661f6\">\n",
              "  <button class=\"colab-df-quickchart\" onclick=\"quickchart('df-3fd9150e-47e9-4c91-863a-fcdf252661f6')\"\n",
              "            title=\"Suggest charts.\"\n",
              "            style=\"display:none;\">\n",
              "\n",
              "<svg xmlns=\"http://www.w3.org/2000/svg\" height=\"24px\"viewBox=\"0 0 24 24\"\n",
              "     width=\"24px\">\n",
              "    <g>\n",
              "        <path d=\"M19 3H5c-1.1 0-2 .9-2 2v14c0 1.1.9 2 2 2h14c1.1 0 2-.9 2-2V5c0-1.1-.9-2-2-2zM9 17H7v-7h2v7zm4 0h-2V7h2v10zm4 0h-2v-4h2v4z\"/>\n",
              "    </g>\n",
              "</svg>\n",
              "  </button>\n",
              "\n",
              "<style>\n",
              "  .colab-df-quickchart {\n",
              "      --bg-color: #E8F0FE;\n",
              "      --fill-color: #1967D2;\n",
              "      --hover-bg-color: #E2EBFA;\n",
              "      --hover-fill-color: #174EA6;\n",
              "      --disabled-fill-color: #AAA;\n",
              "      --disabled-bg-color: #DDD;\n",
              "  }\n",
              "\n",
              "  [theme=dark] .colab-df-quickchart {\n",
              "      --bg-color: #3B4455;\n",
              "      --fill-color: #D2E3FC;\n",
              "      --hover-bg-color: #434B5C;\n",
              "      --hover-fill-color: #FFFFFF;\n",
              "      --disabled-bg-color: #3B4455;\n",
              "      --disabled-fill-color: #666;\n",
              "  }\n",
              "\n",
              "  .colab-df-quickchart {\n",
              "    background-color: var(--bg-color);\n",
              "    border: none;\n",
              "    border-radius: 50%;\n",
              "    cursor: pointer;\n",
              "    display: none;\n",
              "    fill: var(--fill-color);\n",
              "    height: 32px;\n",
              "    padding: 0;\n",
              "    width: 32px;\n",
              "  }\n",
              "\n",
              "  .colab-df-quickchart:hover {\n",
              "    background-color: var(--hover-bg-color);\n",
              "    box-shadow: 0 1px 2px rgba(60, 64, 67, 0.3), 0 1px 3px 1px rgba(60, 64, 67, 0.15);\n",
              "    fill: var(--button-hover-fill-color);\n",
              "  }\n",
              "\n",
              "  .colab-df-quickchart-complete:disabled,\n",
              "  .colab-df-quickchart-complete:disabled:hover {\n",
              "    background-color: var(--disabled-bg-color);\n",
              "    fill: var(--disabled-fill-color);\n",
              "    box-shadow: none;\n",
              "  }\n",
              "\n",
              "  .colab-df-spinner {\n",
              "    border: 2px solid var(--fill-color);\n",
              "    border-color: transparent;\n",
              "    border-bottom-color: var(--fill-color);\n",
              "    animation:\n",
              "      spin 1s steps(1) infinite;\n",
              "  }\n",
              "\n",
              "  @keyframes spin {\n",
              "    0% {\n",
              "      border-color: transparent;\n",
              "      border-bottom-color: var(--fill-color);\n",
              "      border-left-color: var(--fill-color);\n",
              "    }\n",
              "    20% {\n",
              "      border-color: transparent;\n",
              "      border-left-color: var(--fill-color);\n",
              "      border-top-color: var(--fill-color);\n",
              "    }\n",
              "    30% {\n",
              "      border-color: transparent;\n",
              "      border-left-color: var(--fill-color);\n",
              "      border-top-color: var(--fill-color);\n",
              "      border-right-color: var(--fill-color);\n",
              "    }\n",
              "    40% {\n",
              "      border-color: transparent;\n",
              "      border-right-color: var(--fill-color);\n",
              "      border-top-color: var(--fill-color);\n",
              "    }\n",
              "    60% {\n",
              "      border-color: transparent;\n",
              "      border-right-color: var(--fill-color);\n",
              "    }\n",
              "    80% {\n",
              "      border-color: transparent;\n",
              "      border-right-color: var(--fill-color);\n",
              "      border-bottom-color: var(--fill-color);\n",
              "    }\n",
              "    90% {\n",
              "      border-color: transparent;\n",
              "      border-bottom-color: var(--fill-color);\n",
              "    }\n",
              "  }\n",
              "</style>\n",
              "\n",
              "  <script>\n",
              "    async function quickchart(key) {\n",
              "      const quickchartButtonEl =\n",
              "        document.querySelector('#' + key + ' button');\n",
              "      quickchartButtonEl.disabled = true;  // To prevent multiple clicks.\n",
              "      quickchartButtonEl.classList.add('colab-df-spinner');\n",
              "      try {\n",
              "        const charts = await google.colab.kernel.invokeFunction(\n",
              "            'suggestCharts', [key], {});\n",
              "      } catch (error) {\n",
              "        console.error('Error during call to suggestCharts:', error);\n",
              "      }\n",
              "      quickchartButtonEl.classList.remove('colab-df-spinner');\n",
              "      quickchartButtonEl.classList.add('colab-df-quickchart-complete');\n",
              "    }\n",
              "    (() => {\n",
              "      let quickchartButtonEl =\n",
              "        document.querySelector('#df-3fd9150e-47e9-4c91-863a-fcdf252661f6 button');\n",
              "      quickchartButtonEl.style.display =\n",
              "        google.colab.kernel.accessAllowed ? 'block' : 'none';\n",
              "    })();\n",
              "  </script>\n",
              "</div>\n",
              "    </div>\n",
              "  </div>\n"
            ]
          },
          "metadata": {},
          "execution_count": 14
        }
      ]
    },
    {
      "cell_type": "code",
      "source": [
        "df = pd.read_csv(\"./gaia.csv\")"
      ],
      "metadata": {
        "id": "tiqsY1G5sjQI"
      },
      "execution_count": 19,
      "outputs": []
    },
    {
      "cell_type": "code",
      "source": [
        "list(df.columns)"
      ],
      "metadata": {
        "colab": {
          "base_uri": "https://localhost:8080/"
        },
        "id": "T4Nt7YZ8tTg9",
        "outputId": "7755be80-9c40-47b3-fb4b-3869045d17f8"
      },
      "execution_count": 22,
      "outputs": [
        {
          "output_type": "execute_result",
          "data": {
            "text/plain": [
              "['solution_id',\n",
              " 'designation',\n",
              " 'source_id',\n",
              " 'random_index',\n",
              " 'gaia_ref_epoch',\n",
              " 'ra',\n",
              " 'ra_error',\n",
              " 'dec',\n",
              " 'dec_error',\n",
              " 'parallax',\n",
              " 'parallax_error',\n",
              " 'parallax_over_error',\n",
              " 'pmra',\n",
              " 'pmra_error',\n",
              " 'pmdec',\n",
              " 'pmdec_error',\n",
              " 'ra_dec_corr',\n",
              " 'ra_parallax_corr',\n",
              " 'ra_pmra_corr',\n",
              " 'ra_pmdec_corr',\n",
              " 'dec_parallax_corr',\n",
              " 'dec_pmra_corr',\n",
              " 'dec_pmdec_corr',\n",
              " 'parallax_pmra_corr',\n",
              " 'parallax_pmdec_corr',\n",
              " 'pmra_pmdec_corr',\n",
              " 'astrometric_n_obs_al',\n",
              " 'astrometric_n_obs_ac',\n",
              " 'astrometric_n_good_obs_al',\n",
              " 'astrometric_n_bad_obs_al',\n",
              " 'astrometric_gof_al',\n",
              " 'astrometric_chi2_al',\n",
              " 'astrometric_excess_noise',\n",
              " 'astrometric_excess_noise_sig',\n",
              " 'astrometric_params_solved',\n",
              " 'astrometric_primary_flag',\n",
              " 'astrometric_weight_al',\n",
              " 'astrometric_pseudo_colour',\n",
              " 'astrometric_pseudo_colour_error',\n",
              " 'mean_varpi_factor_al',\n",
              " 'astrometric_matched_observations',\n",
              " 'visibility_periods_used',\n",
              " 'astrometric_sigma5d_max',\n",
              " 'frame_rotator_object_type',\n",
              " 'matched_observations',\n",
              " 'duplicated_source',\n",
              " 'phot_g_n_obs',\n",
              " 'phot_g_mean_flux',\n",
              " 'phot_g_mean_flux_error',\n",
              " 'phot_g_mean_flux_over_error',\n",
              " 'phot_g_mean_mag',\n",
              " 'phot_bp_n_obs',\n",
              " 'phot_bp_mean_flux',\n",
              " 'phot_bp_mean_flux_error',\n",
              " 'phot_bp_mean_flux_over_error',\n",
              " 'phot_bp_mean_mag',\n",
              " 'phot_rp_n_obs',\n",
              " 'phot_rp_mean_flux',\n",
              " 'phot_rp_mean_flux_error',\n",
              " 'phot_rp_mean_flux_over_error',\n",
              " 'phot_rp_mean_mag',\n",
              " 'phot_bp_rp_excess_factor',\n",
              " 'phot_proc_mode',\n",
              " 'bp_rp',\n",
              " 'bp_g',\n",
              " 'g_rp',\n",
              " 'radial_velocity',\n",
              " 'radial_velocity_error',\n",
              " 'rv_nb_transits',\n",
              " 'rv_template_teff',\n",
              " 'rv_template_logg',\n",
              " 'rv_template_fe_h',\n",
              " 'phot_variable_flag',\n",
              " 'l',\n",
              " 'b',\n",
              " 'ecl_lon',\n",
              " 'ecl_lat',\n",
              " 'priam_flags',\n",
              " 'teff_val',\n",
              " 'teff_percentile_lower',\n",
              " 'teff_percentile_upper',\n",
              " 'a_g_val',\n",
              " 'a_g_percentile_lower',\n",
              " 'a_g_percentile_upper',\n",
              " 'e_bp_min_rp_val',\n",
              " 'e_bp_min_rp_percentile_lower',\n",
              " 'e_bp_min_rp_percentile_upper',\n",
              " 'flame_flags',\n",
              " 'radius_val',\n",
              " 'radius_percentile_lower',\n",
              " 'radius_percentile_upper',\n",
              " 'lum_val',\n",
              " 'lum_percentile_lower',\n",
              " 'lum_percentile_upper',\n",
              " 'datalink_url',\n",
              " 'epoch_photometry_url',\n",
              " 'kepid',\n",
              " 'ra_kic',\n",
              " 'dec_kic',\n",
              " 'r_est',\n",
              " 'r_lo',\n",
              " 'r_hi',\n",
              " 'r_length_prior',\n",
              " 'r_result_flag',\n",
              " 'r_modality_flag',\n",
              " 'tm_designation',\n",
              " 'kepmag',\n",
              " 'teff',\n",
              " 'teff_err1',\n",
              " 'teff_err2',\n",
              " 'teff_prov',\n",
              " 'logg',\n",
              " 'logg_err1',\n",
              " 'logg_err2',\n",
              " 'logg_prov',\n",
              " 'feh',\n",
              " 'feh_err1',\n",
              " 'feh_err2',\n",
              " 'feh_prov',\n",
              " 'radius',\n",
              " 'radius_err1',\n",
              " 'radius_err2',\n",
              " 'mass',\n",
              " 'mass_err1',\n",
              " 'mass_err2',\n",
              " 'prov_sec',\n",
              " 'nconfp',\n",
              " 'nkoi',\n",
              " 'ntce',\n",
              " 'jmag',\n",
              " 'hmag',\n",
              " 'kmag',\n",
              " 'planet?',\n",
              " 'kepler_gaia_ang_dist',\n",
              " 'abs_G']"
            ]
          },
          "metadata": {},
          "execution_count": 22
        }
      ]
    },
    {
      "cell_type": "code",
      "source": [
        "df['bp_rp']"
      ],
      "metadata": {
        "colab": {
          "base_uri": "https://localhost:8080/"
        },
        "id": "sPy6qJydv2Ht",
        "outputId": "f026dca9-adf0-413f-8255-422bce329f20"
      },
      "execution_count": 24,
      "outputs": [
        {
          "output_type": "execute_result",
          "data": {
            "text/plain": [
              "0         1.150457\n",
              "1         1.075729\n",
              "2         1.318515\n",
              "3         0.717012\n",
              "4         1.174043\n",
              "            ...   \n",
              "201307    3.084284\n",
              "201308    0.673847\n",
              "201309    0.889952\n",
              "201310    1.415160\n",
              "201311    1.151735\n",
              "Name: bp_rp, Length: 201312, dtype: float64"
            ]
          },
          "metadata": {},
          "execution_count": 24
        }
      ]
    },
    {
      "cell_type": "code",
      "source": [
        "import matplotlib.pyplot as plt\n"
      ],
      "metadata": {
        "id": "Em35mMVzwFv9"
      },
      "execution_count": 25,
      "outputs": []
    },
    {
      "cell_type": "code",
      "source": [
        "plt.plot(df['bp_rp'], df['abs_G'], ',')\n",
        "plt.gca().invert_yaxis()"
      ],
      "metadata": {
        "colab": {
          "base_uri": "https://localhost:8080/",
          "height": 430
        },
        "id": "j9EcDnSywWb6",
        "outputId": "0d498f96-ddc0-47d8-b0a2-47d7a78ceafe"
      },
      "execution_count": 27,
      "outputs": [
        {
          "output_type": "display_data",
          "data": {
            "text/plain": [
              "<Figure size 640x480 with 1 Axes>"
            ],
            "image/png": "[encoded data removed]"
          },
          "metadata": {}
        }
      ]
    }
  ]
}