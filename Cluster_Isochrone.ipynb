{
  "nbformat": 4,
  "nbformat_minor": 0,
  "metadata": {
    "colab": {
      "provenance": [],
      "include_colab_link": true
    },
    "kernelspec": {
      "name": "python3",
      "display_name": "Python 3"
    },
    "language_info": {
      "name": "python"
    }
  },
  "cells": [
    {
      "cell_type": "markdown",
      "metadata": {
        "id": "view-in-github",
        "colab_type": "text"
      },
      "source": [
        "<a href=\"https://colab.research.google.com/github/starluvr3579/SRMP/blob/main/Cluster_Isochrone.ipynb\" target=\"_parent\"><img src=\"https://colab.research.google.com/assets/colab-badge.svg\" alt=\"Open In Colab\"/></a>"
      ]
    },
    {
      "cell_type": "code",
      "execution_count": 1,
      "metadata": {
        "colab": {
          "base_uri": "https://localhost:8080/"
        },
        "id": "n0SEfVTMa4A5",
        "outputId": "5e6dfc66-5335-4cd2-a46e-a165d9e5f773"
      },
      "outputs": [
        {
          "output_type": "stream",
          "name": "stdout",
          "text": [
            "Collecting astroquery\n",
            "  Downloading astroquery-0.4.7-py3-none-any.whl (5.3 MB)\n",
            "\u001b[2K     \u001b[90m━━━━━━━━━━━━━━━━━━━━━━━━━━━━━━━━━━━━━━━━\u001b[0m \u001b[32m5.3/5.3 MB\u001b[0m \u001b[31m13.1 MB/s\u001b[0m eta \u001b[36m0:00:00\u001b[0m\n",
            "\u001b[?25hRequirement already satisfied: numpy>=1.18 in /usr/local/lib/python3.10/dist-packages (from astroquery) (1.25.2)\n",
            "Requirement already satisfied: astropy>=4.2.1 in /usr/local/lib/python3.10/dist-packages (from astroquery) (5.3.4)\n",
            "Requirement already satisfied: requests>=2.19 in /usr/local/lib/python3.10/dist-packages (from astroquery) (2.31.0)\n",
            "Requirement already satisfied: beautifulsoup4>=4.8 in /usr/local/lib/python3.10/dist-packages (from astroquery) (4.12.3)\n",
            "Requirement already satisfied: html5lib>=0.999 in /usr/local/lib/python3.10/dist-packages (from astroquery) (1.1)\n",
            "Requirement already satisfied: keyring>=15.0 in /usr/lib/python3/dist-packages (from astroquery) (23.5.0)\n",
            "Collecting pyvo>=1.1 (from astroquery)\n",
            "  Downloading pyvo-1.5.1-py3-none-any.whl (910 kB)\n",
            "\u001b[2K     \u001b[90m━━━━━━━━━━━━━━━━━━━━━━━━━━━━━━━━━━━━━━━━\u001b[0m \u001b[32m910.2/910.2 kB\u001b[0m \u001b[31m17.0 MB/s\u001b[0m eta \u001b[36m0:00:00\u001b[0m\n",
            "\u001b[?25hRequirement already satisfied: pyerfa>=2.0 in /usr/local/lib/python3.10/dist-packages (from astropy>=4.2.1->astroquery) (2.0.1.1)\n",
            "Requirement already satisfied: PyYAML>=3.13 in /usr/local/lib/python3.10/dist-packages (from astropy>=4.2.1->astroquery) (6.0.1)\n",
            "Requirement already satisfied: packaging>=19.0 in /usr/local/lib/python3.10/dist-packages (from astropy>=4.2.1->astroquery) (24.0)\n",
            "Requirement already satisfied: soupsieve>1.2 in /usr/local/lib/python3.10/dist-packages (from beautifulsoup4>=4.8->astroquery) (2.5)\n",
            "Requirement already satisfied: six>=1.9 in /usr/local/lib/python3.10/dist-packages (from html5lib>=0.999->astroquery) (1.16.0)\n",
            "Requirement already satisfied: webencodings in /usr/local/lib/python3.10/dist-packages (from html5lib>=0.999->astroquery) (0.5.1)\n",
            "Requirement already satisfied: charset-normalizer<4,>=2 in /usr/local/lib/python3.10/dist-packages (from requests>=2.19->astroquery) (3.3.2)\n",
            "Requirement already satisfied: idna<4,>=2.5 in /usr/local/lib/python3.10/dist-packages (from requests>=2.19->astroquery) (3.6)\n",
            "Requirement already satisfied: urllib3<3,>=1.21.1 in /usr/local/lib/python3.10/dist-packages (from requests>=2.19->astroquery) (2.0.7)\n",
            "Requirement already satisfied: certifi>=2017.4.17 in /usr/local/lib/python3.10/dist-packages (from requests>=2.19->astroquery) (2024.2.2)\n",
            "Installing collected packages: pyvo, astroquery\n",
            "Successfully installed astroquery-0.4.7 pyvo-1.5.1\n"
          ]
        }
      ],
      "source": [
        "# Numpy: arrays, numbers, constants, math\n",
        "import numpy as np\n",
        "\n",
        "# Matplotlib: plotting\n",
        "import matplotlib.pyplot as plt\n",
        "\n",
        "# This disables certain system messages\n",
        "import warnings\n",
        "warnings.filterwarnings('ignore')\n",
        "\n",
        "# Accessing astronomical datasets\n",
        "!pip install astroquery\n",
        "from astroquery.vizier import Vizier\n",
        "\n",
        "# Reading and working with Astropy tables\n",
        "from astropy.io import ascii"
      ]
    },
    {
      "cell_type": "code",
      "source": [
        "def get_cluster(Cluster_Name):\n",
        "  vizier_CantatGaudin2020 = 'J/A+A/640/A1/nodup'    # Cantat-Gaudin et al. (2020) - this is the vizier code for the \"Portrait\" paper.\n",
        "\n",
        "  # Set up the Vizier query.\n",
        "  # First, we want to select only stars in the cluster we are interested in.\n",
        "  # Second, Cantat-Gaudin+2020 also provides membership probabilities (ranging from 0 to 1).\n",
        "  #   We will only download stars with membership probabilities greater than 50%.\n",
        "  query_catalog = Vizier(column_filters={'Cluster': Cluster_Name, 'prob':'>0.5'})\n",
        "\n",
        "  # By default, Vizier() only downloads the first 50 rows of a table.\n",
        "  # To deactivate the row limit, set it to -1 (i.e., this will tell it to download the full table)\n",
        "  query_catalog.ROW_LIMIT = -1\n",
        "\n",
        "  # Perform the query\n",
        "  cluster_catalog = query_catalog.get_catalogs(vizier_CantatGaudin2020)[0]\n",
        "\n",
        "  # Rename some of the columns to simpler names\n",
        "  cluster_catalog['pmRA_'].name = 'pmRA'\n",
        "  cluster_catalog['pmDE'].name = 'pmDec'\n",
        "  cluster_catalog['Plx'].name = 'Parallax'\n",
        "  cluster_catalog['RA_ICRS'].name = 'RA'\n",
        "  cluster_catalog['DE_ICRS'].name = 'Dec'\n",
        "\n",
        "  # Remove some unnecessary columns\n",
        "  cluster_catalog.remove_columns(['o_Gmag', 'proba', 'Cluster', '_RA.icrs', '_DE.icrs','Teff50'])\n",
        "\n",
        "  # Return the catalog\n",
        "  return cluster_catalog"
      ],
      "metadata": {
        "id": "eHb7C_xOa4dQ"
      },
      "execution_count": 2,
      "outputs": []
    },
    {
      "cell_type": "code",
      "source": [
        "# The URL where we have placed the modified isochrone file\n",
        "url = \"https://github.com/jasoncurtis/Lessons/blob/main/GaiaDR2_Isochrones.dat?raw=true\"\n",
        "# Read the file using astropy.ascii.read()\n",
        "isochrone_table = ascii.read(url, delimiter=r'\\s')"
      ],
      "metadata": {
        "id": "sKvWxlpia76q"
      },
      "execution_count": 3,
      "outputs": []
    },
    {
      "cell_type": "code",
      "source": [
        "# Define a function that locates the place in an array where the entry is closest to a requested value:\n",
        "def find_element(value, array):\n",
        "  absolute_difference = abs(array - value)\n",
        "  location_of_element_nearest_to_value = np.argmin(absolute_difference)\n",
        "  return location_of_element_nearest_to_value\n",
        "\n",
        "# Define a function that pulls out one isochrone (one age) out of the grid.\n",
        "\n",
        "# This function will also introduce interstellar extinction (dims Gmag) and reddening (increases BP-RP).\n",
        "# This is parameterized with $A_V$, the extinction in the visual $V$ band.\n",
        "# The extinction in other bands can be calculated from A_V using \"extinction coefficients\"\n",
        "\n",
        "\n",
        "def get_isochrone(age, Av = 0.0):\n",
        "  # Note: Input age must be in millions of years (Myr)\n",
        "\n",
        "  #\n",
        "  unique_ages_in_isochrone_table = np.unique(isochrone_table['log_Age'])\n",
        "\n",
        "  #\n",
        "  location_of_nearest_age_in_isochrone = find_element(age, 10**unique_ages_in_isochrone_table/1e6)\n",
        "\n",
        "  #\n",
        "  nearest_age_in_isochrone = unique_ages_in_isochrone_table[location_of_nearest_age_in_isochrone]\n",
        "\n",
        "  #\n",
        "  find_matching_ages = np.where((isochrone_table['log_Age'] == nearest_age_in_isochrone) &\n",
        "                                (isochrone_table['label']<7)\n",
        "                                )[0]\n",
        "\n",
        "  # extract isochrone at the given age\n",
        "  isochrone_at_input_age = isochrone_table[find_matching_ages]\n",
        "\n",
        "  #\n",
        "  isochrone_at_input_age['BP-RP'] = isochrone_at_input_age['G_BPmag'] - isochrone_at_input_age['G_RPmag']\n",
        "\n",
        "  # Correct photometry for interstellar reddening and extinction\n",
        "  isochrone_at_input_age['Gmag'] += 0.86*Av\n",
        "  isochrone_at_input_age['BP-RP'] += 0.415*Av\n",
        "\n",
        "  isochrone_at_input_age.remove_columns(['G_BPmag', 'G_RPmag'])\n",
        "\n",
        "  # return\n",
        "  return isochrone_at_input_age\n",
        "\n"
      ],
      "metadata": {
        "id": "ZGBTxEV0bGOG"
      },
      "execution_count": 4,
      "outputs": []
    },
    {
      "cell_type": "code",
      "source": [
        "# calculate absolute magnitude\n",
        "def m_to_M(m, D):\n",
        "    \"\"\"\n",
        "    Convert apparent magnitude to absolute magnitude.\n",
        "    \"\"\"\n",
        "    return m - 5*np.log10(D)-10"
      ],
      "metadata": {
        "id": "S3esCy0ZdTR2"
      },
      "execution_count": 5,
      "outputs": []
    },
    {
      "cell_type": "code",
      "source": [
        "Pleiades = get_cluster('Haffner_3')"
      ],
      "metadata": {
        "id": "yUkej0M4bgWO"
      },
      "execution_count": 94,
      "outputs": []
    },
    {
      "cell_type": "code",
      "source": [
        "Age = 500.0 # Myr -- modify this number and Av until you get a good fit\n",
        "Av = 1 # mag  -- modify this number and Age above until you get a good fit\n",
        "my_isochrone = get_isochrone(Age, Av=Av)\n",
        "\n",
        "plt.plot(Pleiades['BP-RP'], m_to_M(Pleiades['Gmag'], 1/Pleiades['Parallax']), 'ko')\n",
        "plt.plot(my_isochrone['BP-RP'], my_isochrone['Gmag'], 'r-')\n",
        "plt.gca().invert_yaxis()\n",
        "plt.xlabel('BP-RP')\n",
        "plt.ylabel('$M_G$')"
      ],
      "metadata": {
        "colab": {
          "base_uri": "https://localhost:8080/",
          "height": 467
        },
        "id": "Cl9WosedbL_4",
        "outputId": "1b9036b6-f246-465a-d305-a165a597cbf7"
      },
      "execution_count": 122,
      "outputs": [
        {
          "output_type": "execute_result",
          "data": {
            "text/plain": [
              "Text(0, 0.5, '$M_G$')"
            ]
          },
          "metadata": {},
          "execution_count": 122
        },
        {
          "output_type": "display_data",
          "data": {
            "text/plain": [
              "<Figure size 640x480 with 1 Axes>"
            ],
            "image/png": "[encoded data removed]"
          },
          "metadata": {}
        }
      ]
    },
    {
      "cell_type": "code",
      "source": [
        "Pleiades"
      ],
      "metadata": {
        "colab": {
          "base_uri": "https://localhost:8080/",
          "height": 539
        },
        "id": "rHGlN6Hxb-Oz",
        "outputId": "65ae20fb-0279-4bba-ab29-d844e9d1a9d5"
      },
      "execution_count": null,
      "outputs": [
        {
          "output_type": "execute_result",
          "data": {
            "text/plain": [
              "<Table length=747>\n",
              "       RA             Dec            GaiaDR2       ...      BP-RP       Simbad\n",
              "      deg             deg                          ...       mag              \n",
              "    float64         float64           int64        ...     float64       str6 \n",
              "--------------- --------------- ------------------ ... ---------------- ------\n",
              " 57.35702479597  41.57904985021 231129477446178944 ...        2.9433632 Simbad\n",
              " 58.05039818453  42.39184549391 231272517037288192 ...        2.6243477 Simbad\n",
              " 60.45095664395  43.18663168097 231553201741055488 ...         3.148367 Simbad\n",
              " 59.86412496281  43.55840142178 231614499513678464 ...         1.298686 Simbad\n",
              " 59.31512281245  44.30920937175 231889927176318720 ...        2.0646982 Simbad\n",
              " 61.21985456744  45.28962311770 233412201025744512 ...               -- Simbad\n",
              " 60.93711843107  45.31359966391 233461575969830528 ...         2.515749 Simbad\n",
              " 53.61145105779  40.25899201530 236674383305271680 ...         2.223918 Simbad\n",
              " 53.15131003660  40.73668856072 236932356220839424 ...         1.810297 Simbad\n",
              "            ...             ...                ... ...              ...    ...\n",
              " 42.55567492329  53.27854055151 452874103455279488 ...        2.5479546 Simbad\n",
              " 40.94408116889  53.79307096604 453134653351531904 ...        3.2034311 Simbad\n",
              " 42.90585346354  53.69814130053 453262196698860416 ...        3.6098156 Simbad\n",
              " 42.55378257528  53.67550794708 453270065078988800 ...        3.0895777 Simbad\n",
              " 43.23433651035  53.86773119985 453287657264888192 ...        2.5826693 Simbad\n",
              " 40.88603978091  54.83039273312 454326210416479616 ...        2.5607824 Simbad\n",
              " 49.54436936182  57.93035713516 461658956541259264 ...        3.4302483 Simbad\n",
              " 50.26433956757  58.50760424292 461768327888957440 ...       0.97513103 Simbad\n",
              " 51.66009280998  59.07477819821 462184660537968384 ...        1.0245342 Simbad\n",
              " 57.14459721434  57.86756510736 472903391382457600 ...        1.6539888 Simbad"
            ],
            "text/html": [
              "<div><i>Table length=747</i>\n",
              "<table id=\"table136554018070272\" class=\"table-striped table-bordered table-condensed\">\n",
              "<thead><tr><th>RA</th><th>Dec</th><th>GaiaDR2</th><th>Parallax</th><th>pmRA</th><th>pmDec</th><th>RV</th><th>Gmag</th><th>BP-RP</th><th>Simbad</th></tr></thead>\n",
              "<thead><tr><th>deg</th><th>deg</th><th></th><th>mas</th><th>mas / yr</th><th>mas / yr</th><th>km / s</th><th>mag</th><th>mag</th><th></th></tr></thead>\n",
              "<thead><tr><th>float64</th><th>float64</th><th>int64</th><th>float64</th><th>float64</th><th>float64</th><th>float64</th><th>float64</th><th>float64</th><th>str6</th></tr></thead>\n",
              "<tr><td>57.35702479597</td><td>41.57904985021</td><td>231129477446178944</td><td>5.7083185817826161</td><td>20.9794530964837413</td><td>-27.7561907591321528</td><td>--</td><td>16.6027720</td><td>2.9433632</td><td>Simbad</td></tr>\n",
              "<tr><td>58.05039818453</td><td>42.39184549391</td><td>231272517037288192</td><td>5.6105456915096532</td><td>20.1424158936030935</td><td>-27.1073318823840452</td><td>--</td><td>15.6953750</td><td>2.6243477</td><td>Simbad</td></tr>\n",
              "<tr><td>60.45095664395</td><td>43.18663168097</td><td>231553201741055488</td><td>5.7858590702130694</td><td>20.2750090924745798</td><td>-28.3554286642096613</td><td>--</td><td>17.3586310</td><td>3.148367</td><td>Simbad</td></tr>\n",
              "<tr><td>59.86412496281</td><td>43.55840142178</td><td>231614499513678464</td><td>5.665865781553066</td><td>20.0139084180970599</td><td>-27.7699995077960864</td><td>11.7965154451117619772</td><td>12.5289890</td><td>1.298686</td><td>Simbad</td></tr>\n",
              "<tr><td>59.31512281245</td><td>44.30920937175</td><td>231889927176318720</td><td>5.4873933337112861</td><td>19.6109949316015104</td><td>-26.8313989367438417</td><td>--</td><td>14.4470360</td><td>2.0646982</td><td>Simbad</td></tr>\n",
              "<tr><td>61.21985456744</td><td>45.28962311770</td><td>233412201025744512</td><td>5.7620965639212365</td><td>19.3238666776732906</td><td>-26.8473374929402375</td><td>--</td><td>17.6734640</td><td>--</td><td>Simbad</td></tr>\n",
              "<tr><td>60.93711843107</td><td>45.31359966391</td><td>233461575969830528</td><td>5.7183706752417391</td><td>19.2990116608767686</td><td>-27.8336841833250084</td><td>--</td><td>15.4558800</td><td>2.515749</td><td>Simbad</td></tr>\n",
              "<tr><td>53.61145105779</td><td>40.25899201530</td><td>236674383305271680</td><td>5.4204018947792196</td><td>20.3092503330286078</td><td>-24.0423479620814504</td><td>--</td><td>14.7290880</td><td>2.223918</td><td>Simbad</td></tr>\n",
              "<tr><td>53.15131003660</td><td>40.73668856072</td><td>236932356220839424</td><td>5.8252445761408271</td><td>22.4087400333735793</td><td>-26.5257885638804893</td><td>--</td><td>13.8420960</td><td>1.810297</td><td>Simbad</td></tr>\n",
              "<tr><td>...</td><td>...</td><td>...</td><td>...</td><td>...</td><td>...</td><td>...</td><td>...</td><td>...</td><td>...</td></tr>\n",
              "<tr><td>42.55567492329</td><td>53.27854055151</td><td>452874103455279488</td><td>5.5271482248450479</td><td>24.7313970051268868</td><td>-21.91334565507983</td><td>--</td><td>15.2790790</td><td>2.5479546</td><td>Simbad</td></tr>\n",
              "<tr><td>40.94408116889</td><td>53.79307096604</td><td>453134653351531904</td><td>5.341848703081431</td><td>23.5016067646714966</td><td>-25.3184470017108225</td><td>--</td><td>17.2687100</td><td>3.2034311</td><td>Simbad</td></tr>\n",
              "<tr><td>42.90585346354</td><td>53.69814130053</td><td>453262196698860416</td><td>5.60993878811946</td><td>24.6358590191924236</td><td>-21.227503978847885</td><td>--</td><td>17.4743390</td><td>3.6098156</td><td>Simbad</td></tr>\n",
              "<tr><td>42.55378257528</td><td>53.67550794708</td><td>453270065078988800</td><td>5.9017813690425838</td><td>25.0754251232103123</td><td>-22.5838314272485761</td><td>--</td><td>16.4415570</td><td>3.0895777</td><td>Simbad</td></tr>\n",
              "<tr><td>43.23433651035</td><td>53.86773119985</td><td>453287657264888192</td><td>5.9363912096834177</td><td>25.7254923136266278</td><td>-23.1328826568747701</td><td>--</td><td>15.3794365</td><td>2.5826693</td><td>Simbad</td></tr>\n",
              "<tr><td>40.88603978091</td><td>54.83039273312</td><td>454326210416479616</td><td>5.9258484881231004</td><td>25.8430368841356959</td><td>-21.7895056367944164</td><td>--</td><td>15.3225490</td><td>2.5607824</td><td>Simbad</td></tr>\n",
              "<tr><td>49.54436936182</td><td>57.93035713516</td><td>461658956541259264</td><td>5.5822912950265113</td><td>22.565790675499894</td><td>-24.1547041650902088</td><td>--</td><td>17.8408950</td><td>3.4302483</td><td>Simbad</td></tr>\n",
              "<tr><td>50.26433956757</td><td>58.50760424292</td><td>461768327888957440</td><td>5.4460768042684435</td><td>22.1854158423961145</td><td>-23.237188570433247</td><td>-4.4301296301519368370</td><td>11.1919330</td><td>0.97513103</td><td>Simbad</td></tr>\n",
              "<tr><td>51.66009280998</td><td>59.07477819821</td><td>462184660537968384</td><td>6.1691700334074415</td><td>23.9940813398690551</td><td>-25.8147556400837423</td><td>-4.4695516893325422103</td><td>11.4423630</td><td>1.0245342</td><td>Simbad</td></tr>\n",
              "<tr><td>57.14459721434</td><td>57.86756510736</td><td>472903391382457600</td><td>5.7633246747267926</td><td>24.9017762218475411</td><td>-27.0777285886132653</td><td>--</td><td>13.6700770</td><td>1.6539888</td><td>Simbad</td></tr>\n",
              "</table></div>"
            ]
          },
          "metadata": {},
          "execution_count": 16
        }
      ]
    },
    {
      "cell_type": "code",
      "source": [],
      "metadata": {
        "id": "b_DQg-ZxcymA"
      },
      "execution_count": null,
      "outputs": []
    }
  ]
}