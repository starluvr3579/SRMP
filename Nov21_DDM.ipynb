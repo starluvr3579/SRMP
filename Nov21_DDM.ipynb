{
  "nbformat": 4,
  "nbformat_minor": 0,
  "metadata": {
    "colab": {
      "provenance": [],
      "authorship_tag": "ABX9TyM3tTu3pxtOpdRdDe8RDlCc",
      "include_colab_link": true
    },
    "kernelspec": {
      "name": "python3",
      "display_name": "Python 3"
    },
    "language_info": {
      "name": "python"
    }
  },
  "cells": [
    {
      "cell_type": "markdown",
      "metadata": {
        "id": "view-in-github",
        "colab_type": "text"
      },
      "source": [
        "<a href=\"https://colab.research.google.com/github/starluvr3579/SRMP/blob/main/Nov21_DDM.ipynb\" target=\"_parent\"><img src=\"https://colab.research.google.com/assets/colab-badge.svg\" alt=\"Open In Colab\"/></a>"
      ]
    },
    {
      "cell_type": "code",
      "execution_count": 3,
      "metadata": {
        "colab": {
          "base_uri": "https://localhost:8080/"
        },
        "id": "MM8ZMuR62Yjo",
        "outputId": "06ad8db6-3c59-4b8c-be2a-83bab0863bab"
      },
      "outputs": [
        {
          "output_type": "stream",
          "name": "stdout",
          "text": [
            "Mounted at /content/drive\n"
          ]
        }
      ],
      "source": [
        "from google.colab import drive\n",
        "drive.mount('/content/drive')"
      ]
    },
    {
      "cell_type": "code",
      "source": [
        "!git clone https://github.com/starluvr3579/SRMP.git"
      ],
      "metadata": {
        "colab": {
          "base_uri": "https://localhost:8080/"
        },
        "id": "96YWlGby3C4t",
        "outputId": "0f4839e7-5012-4167-d2fd-281beeb37e62"
      },
      "execution_count": 4,
      "outputs": [
        {
          "output_type": "stream",
          "name": "stdout",
          "text": [
            "Cloning into 'SRMP'...\n",
            "remote: Enumerating objects: 49, done.\u001b[K\n",
            "remote: Counting objects: 100% (49/49), done.\u001b[K\n",
            "remote: Compressing objects: 100% (47/47), done.\u001b[K\n",
            "remote: Total 49 (delta 20), reused 0 (delta 0), pack-reused 0\u001b[K\n",
            "Receiving objects: 100% (49/49), 1.04 MiB | 10.77 MiB/s, done.\n",
            "Resolving deltas: 100% (20/20), done.\n"
          ]
        }
      ]
    },
    {
      "cell_type": "code",
      "source": [
        "import pandas as pd"
      ],
      "metadata": {
        "id": "QqmSBB0R3nO_"
      },
      "execution_count": 5,
      "outputs": []
    },
    {
      "cell_type": "code",
      "source": [
        "df=pd.read_csv('Gaia_Prot_cmatch.csv')"
      ],
      "metadata": {
        "id": "Al7jsdY33qdh"
      },
      "execution_count": 6,
      "outputs": []
    },
    {
      "cell_type": "code",
      "source": [
        "list(df.columns)"
      ],
      "metadata": {
        "colab": {
          "base_uri": "https://localhost:8080/"
        },
        "id": "7OPsEEZF4Eel",
        "outputId": "fc403120-69ae-4f33-dc49-ca35691c6588"
      },
      "execution_count": 7,
      "outputs": [
        {
          "output_type": "execute_result",
          "data": {
            "text/plain": [
              "['Prot',\n",
              " 'abs_G',\n",
              " 'teff_calc',\n",
              " 'source_id',\n",
              " 'solution_id',\n",
              " 'designation',\n",
              " 'random_index',\n",
              " 'ref_epoch',\n",
              " 'ra',\n",
              " 'ra_error',\n",
              " 'dec',\n",
              " 'dec_error',\n",
              " 'parallax',\n",
              " 'parallax_error',\n",
              " 'parallax_over_error',\n",
              " 'pm',\n",
              " 'pmra',\n",
              " 'pmra_error',\n",
              " 'pmdec',\n",
              " 'pmdec_error',\n",
              " 'ra_dec_corr',\n",
              " 'ra_parallax_corr',\n",
              " 'ra_pmra_corr',\n",
              " 'ra_pmdec_corr',\n",
              " 'dec_parallax_corr',\n",
              " 'dec_pmra_corr',\n",
              " 'dec_pmdec_corr',\n",
              " 'parallax_pmra_corr',\n",
              " 'parallax_pmdec_corr',\n",
              " 'pmra_pmdec_corr',\n",
              " 'astrometric_n_obs_al',\n",
              " 'astrometric_n_obs_ac',\n",
              " 'astrometric_n_good_obs_al',\n",
              " 'astrometric_n_bad_obs_al',\n",
              " 'astrometric_gof_al',\n",
              " 'astrometric_chi2_al',\n",
              " 'astrometric_excess_noise',\n",
              " 'astrometric_excess_noise_sig',\n",
              " 'astrometric_params_solved',\n",
              " 'astrometric_primary_flag',\n",
              " 'nu_eff_used_in_astrometry',\n",
              " 'pseudocolour',\n",
              " 'pseudocolour_error',\n",
              " 'ra_pseudocolour_corr',\n",
              " 'dec_pseudocolour_corr',\n",
              " 'parallax_pseudocolour_corr',\n",
              " 'pmra_pseudocolour_corr',\n",
              " 'pmdec_pseudocolour_corr',\n",
              " 'astrometric_matched_transits',\n",
              " 'visibility_periods_used',\n",
              " 'astrometric_sigma5d_max',\n",
              " 'matched_transits',\n",
              " 'new_matched_transits',\n",
              " 'matched_transits_removed',\n",
              " 'ipd_gof_harmonic_amplitude',\n",
              " 'ipd_gof_harmonic_phase',\n",
              " 'ipd_frac_multi_peak',\n",
              " 'ipd_frac_odd_win',\n",
              " 'ruwe',\n",
              " 'scan_direction_strength_k1',\n",
              " 'scan_direction_strength_k2',\n",
              " 'scan_direction_strength_k3',\n",
              " 'scan_direction_strength_k4',\n",
              " 'scan_direction_mean_k1',\n",
              " 'scan_direction_mean_k2',\n",
              " 'scan_direction_mean_k3',\n",
              " 'scan_direction_mean_k4',\n",
              " 'duplicated_source',\n",
              " 'phot_g_n_obs',\n",
              " 'phot_g_mean_flux',\n",
              " 'phot_g_mean_flux_error',\n",
              " 'phot_g_mean_flux_over_error',\n",
              " 'phot_g_mean_mag',\n",
              " 'phot_bp_n_obs',\n",
              " 'phot_bp_mean_flux',\n",
              " 'phot_bp_mean_flux_error',\n",
              " 'phot_bp_mean_flux_over_error',\n",
              " 'phot_bp_mean_mag',\n",
              " 'phot_rp_n_obs',\n",
              " 'phot_rp_mean_flux',\n",
              " 'phot_rp_mean_flux_error',\n",
              " 'phot_rp_mean_flux_over_error',\n",
              " 'phot_rp_mean_mag',\n",
              " 'phot_bp_n_contaminated_transits',\n",
              " 'phot_bp_n_blended_transits',\n",
              " 'phot_rp_n_contaminated_transits',\n",
              " 'phot_rp_n_blended_transits',\n",
              " 'phot_proc_mode',\n",
              " 'phot_bp_rp_excess_factor',\n",
              " 'bp_rp',\n",
              " 'bp_g',\n",
              " 'g_rp',\n",
              " 'dr2_radial_velocity',\n",
              " 'dr2_radial_velocity_error',\n",
              " 'dr2_rv_nb_transits',\n",
              " 'dr2_rv_template_teff',\n",
              " 'dr2_rv_template_logg',\n",
              " 'dr2_rv_template_fe_h',\n",
              " 'l',\n",
              " 'b',\n",
              " 'ecl_lon',\n",
              " 'ecl_lat',\n",
              " 'tab_uploaded_oid']"
            ]
          },
          "metadata": {},
          "execution_count": 7
        }
      ]
    },
    {
      "cell_type": "code",
      "source": [
        "import matplotlib.pyplot as plt"
      ],
      "metadata": {
        "id": "iU2i9L3j6DSt"
      },
      "execution_count": 8,
      "outputs": []
    },
    {
      "cell_type": "code",
      "source": [
        "plt.plot(df['teff_calc'], df['Prot'], 'o')\n",
        "plt.xlabel('Rotation Period')\n",
        "plt.ylabel('temperature')"
      ],
      "metadata": {
        "colab": {
          "base_uri": "https://localhost:8080/",
          "height": 467
        },
        "id": "1ibqOpKt6LGs",
        "outputId": "27fffe67-4bd3-4102-ec64-01c4413bbb26"
      },
      "execution_count": 14,
      "outputs": [
        {
          "output_type": "execute_result",
          "data": {
            "text/plain": [
              "Text(0, 0.5, 'temperature')"
            ]
          },
          "metadata": {},
          "execution_count": 14
        },
        {
          "output_type": "display_data",
          "data": {
            "text/plain": [
              "<Figure size 640x480 with 1 Axes>"
            ],
            "image/png": "[encoded data removed]"
          },
          "metadata": {}
        }
      ]
    }
  ]
}