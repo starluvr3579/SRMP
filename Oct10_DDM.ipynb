{
  "nbformat": 4,
  "nbformat_minor": 0,
  "metadata": {
    "colab": {
      "provenance": [],
      "authorship_tag": "ABX9TyPvawgB3V5iEbFWc0HVJMd2",
      "include_colab_link": true
    },
    "kernelspec": {
      "name": "python3",
      "display_name": "Python 3"
    },
    "language_info": {
      "name": "python"
    }
  },
  "cells": [
    {
      "cell_type": "markdown",
      "metadata": {
        "id": "view-in-github",
        "colab_type": "text"
      },
      "source": [
        "<a href=\"https://colab.research.google.com/github/starluvr3579/SRMP/blob/main/Oct10_DDM.ipynb\" target=\"_parent\"><img src=\"https://colab.research.google.com/assets/colab-badge.svg\" alt=\"Open In Colab\"/></a>"
      ]
    },
    {
      "cell_type": "code",
      "execution_count": 1,
      "metadata": {
        "colab": {
          "base_uri": "https://localhost:8080/"
        },
        "id": "ie1pJobaRCPJ",
        "outputId": "75f4dfcc-1b4f-4c07-e128-ac34fb0fd985"
      },
      "outputs": [
        {
          "output_type": "stream",
          "name": "stdout",
          "text": [
            "Mounted at /content/drive\n"
          ]
        }
      ],
      "source": [
        "from google.colab import drive\n",
        "drive.mount('/content/drive')"
      ]
    },
    {
      "cell_type": "code",
      "source": [
        "!git clone https://github.com/starluvr3579/SRMP.git"
      ],
      "metadata": {
        "colab": {
          "base_uri": "https://localhost:8080/"
        },
        "id": "d7TTi7uNRxM3",
        "outputId": "a91a38bb-f632-4fa0-906e-e17ac143e5ca"
      },
      "execution_count": 2,
      "outputs": [
        {
          "output_type": "stream",
          "name": "stdout",
          "text": [
            "Cloning into 'SRMP'...\n",
            "remote: Enumerating objects: 15, done.\u001b[K\n",
            "remote: Counting objects: 100% (15/15), done.\u001b[K\n",
            "remote: Compressing objects: 100% (13/13), done.\u001b[K\n",
            "remote: Total 15 (delta 2), reused 0 (delta 0), pack-reused 0\u001b[K\n",
            "Receiving objects: 100% (15/15), 22.38 KiB | 4.47 MiB/s, done.\n",
            "Resolving deltas: 100% (2/2), done.\n"
          ]
        }
      ]
    },
    {
      "cell_type": "code",
      "source": [
        "import pandas as pd"
      ],
      "metadata": {
        "id": "NidW7LuIUkAj"
      },
      "execution_count": 5,
      "outputs": []
    },
    {
      "cell_type": "code",
      "source": [
        "df=pd.read_csv('./gaia.csv')"
      ],
      "metadata": {
        "id": "ITWzyEiCUpkR"
      },
      "execution_count": 6,
      "outputs": []
    },
    {
      "cell_type": "code",
      "source": [
        "list(df.columns)"
      ],
      "metadata": {
        "colab": {
          "base_uri": "https://localhost:8080/"
        },
        "id": "5LozvxwuU6ZF",
        "outputId": "6f9b9d28-616c-4322-dbd8-11378e1ed069"
      },
      "execution_count": 7,
      "outputs": [
        {
          "output_type": "execute_result",
          "data": {
            "text/plain": [
              "['solution_id',\n",
              " 'designation',\n",
              " 'source_id',\n",
              " 'random_index',\n",
              " 'gaia_ref_epoch',\n",
              " 'ra',\n",
              " 'ra_error',\n",
              " 'dec',\n",
              " 'dec_error',\n",
              " 'parallax',\n",
              " 'parallax_error',\n",
              " 'parallax_over_error',\n",
              " 'pmra',\n",
              " 'pmra_error',\n",
              " 'pmdec',\n",
              " 'pmdec_error',\n",
              " 'ra_dec_corr',\n",
              " 'ra_parallax_corr',\n",
              " 'ra_pmra_corr',\n",
              " 'ra_pmdec_corr',\n",
              " 'dec_parallax_corr',\n",
              " 'dec_pmra_corr',\n",
              " 'dec_pmdec_corr',\n",
              " 'parallax_pmra_corr',\n",
              " 'parallax_pmdec_corr',\n",
              " 'pmra_pmdec_corr',\n",
              " 'astrometric_n_obs_al',\n",
              " 'astrometric_n_obs_ac',\n",
              " 'astrometric_n_good_obs_al',\n",
              " 'astrometric_n_bad_obs_al',\n",
              " 'astrometric_gof_al',\n",
              " 'astrometric_chi2_al',\n",
              " 'astrometric_excess_noise',\n",
              " 'astrometric_excess_noise_sig',\n",
              " 'astrometric_params_solved',\n",
              " 'astrometric_primary_flag',\n",
              " 'astrometric_weight_al',\n",
              " 'astrometric_pseudo_colour',\n",
              " 'astrometric_pseudo_colour_error',\n",
              " 'mean_varpi_factor_al',\n",
              " 'astrometric_matched_observations',\n",
              " 'visibility_periods_used',\n",
              " 'astrometric_sigma5d_max',\n",
              " 'frame_rotator_object_type',\n",
              " 'matched_observations',\n",
              " 'duplicated_source',\n",
              " 'phot_g_n_obs',\n",
              " 'phot_g_mean_flux',\n",
              " 'phot_g_mean_flux_error',\n",
              " 'phot_g_mean_flux_over_error',\n",
              " 'phot_g_mean_mag',\n",
              " 'phot_bp_n_obs',\n",
              " 'phot_bp_mean_flux',\n",
              " 'phot_bp_mean_flux_error',\n",
              " 'phot_bp_mean_flux_over_error',\n",
              " 'phot_bp_mean_mag',\n",
              " 'phot_rp_n_obs',\n",
              " 'phot_rp_mean_flux',\n",
              " 'phot_rp_mean_flux_error',\n",
              " 'phot_rp_mean_flux_over_error',\n",
              " 'phot_rp_mean_mag',\n",
              " 'phot_bp_rp_excess_factor',\n",
              " 'phot_proc_mode',\n",
              " 'bp_rp',\n",
              " 'bp_g',\n",
              " 'g_rp',\n",
              " 'radial_velocity',\n",
              " 'radial_velocity_error',\n",
              " 'rv_nb_transits',\n",
              " 'rv_template_teff',\n",
              " 'rv_template_logg',\n",
              " 'rv_template_fe_h',\n",
              " 'phot_variable_flag',\n",
              " 'l',\n",
              " 'b',\n",
              " 'ecl_lon',\n",
              " 'ecl_lat',\n",
              " 'priam_flags',\n",
              " 'teff_val',\n",
              " 'teff_percentile_lower',\n",
              " 'teff_percentile_upper',\n",
              " 'a_g_val',\n",
              " 'a_g_percentile_lower',\n",
              " 'a_g_percentile_upper',\n",
              " 'e_bp_min_rp_val',\n",
              " 'e_bp_min_rp_percentile_lower',\n",
              " 'e_bp_min_rp_percentile_upper',\n",
              " 'flame_flags',\n",
              " 'radius_val',\n",
              " 'radius_percentile_lower',\n",
              " 'radius_percentile_upper',\n",
              " 'lum_val',\n",
              " 'lum_percentile_lower',\n",
              " 'lum_percentile_upper',\n",
              " 'datalink_url',\n",
              " 'epoch_photometry_url',\n",
              " 'kepid',\n",
              " 'ra_kic',\n",
              " 'dec_kic',\n",
              " 'r_est',\n",
              " 'r_lo',\n",
              " 'r_hi',\n",
              " 'r_length_prior',\n",
              " 'r_result_flag',\n",
              " 'r_modality_flag',\n",
              " 'tm_designation',\n",
              " 'kepmag',\n",
              " 'teff',\n",
              " 'teff_err1',\n",
              " 'teff_err2',\n",
              " 'teff_prov',\n",
              " 'logg',\n",
              " 'logg_err1',\n",
              " 'logg_err2',\n",
              " 'logg_prov',\n",
              " 'feh',\n",
              " 'feh_err1',\n",
              " 'feh_err2',\n",
              " 'feh_prov',\n",
              " 'radius',\n",
              " 'radius_err1',\n",
              " 'radius_err2',\n",
              " 'mass',\n",
              " 'mass_err1',\n",
              " 'mass_err2',\n",
              " 'prov_sec',\n",
              " 'nconfp',\n",
              " 'nkoi',\n",
              " 'ntce',\n",
              " 'jmag',\n",
              " 'hmag',\n",
              " 'kmag',\n",
              " 'planet?',\n",
              " 'kepler_gaia_ang_dist',\n",
              " 'abs_G']"
            ]
          },
          "metadata": {},
          "execution_count": 7
        }
      ]
    },
    {
      "cell_type": "code",
      "source": [
        "import matplotlib.pyplot as plt\n"
      ],
      "metadata": {
        "id": "4fN0mf6wVBZQ"
      },
      "execution_count": 8,
      "outputs": []
    },
    {
      "cell_type": "code",
      "source": [
        "plt.plot(df['bp_rp'], df['abs_G'],'o')\n",
        "plt.gca().invert_yaxis()"
      ],
      "metadata": {
        "colab": {
          "base_uri": "https://localhost:8080/",
          "height": 430
        },
        "id": "QVHcvkHoVNrO",
        "outputId": "c1bf34dd-1f69-43f2-b1b4-661c921a4524"
      },
      "execution_count": 11,
      "outputs": [
        {
          "output_type": "display_data",
          "data": {
            "text/plain": [
              "<Figure size 640x480 with 1 Axes>"
            ],
            "image/png": "[encoded data removed]"
          },
          "metadata": {}
        }
      ]
    },
    {
      "cell_type": "code",
      "source": [],
      "metadata": {
        "id": "cwhJ50rPWzVa"
      },
      "execution_count": null,
      "outputs": []
    }
  ]
}